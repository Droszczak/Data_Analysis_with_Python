{
 "cells": [
  {
   "cell_type": "markdown",
   "id": "21b3810e",
   "metadata": {},
   "source": [
    "**Importing CSV Data**"
   ]
  },
  {
   "cell_type": "code",
   "execution_count": null,
   "id": "3b70a378",
   "metadata": {},
   "outputs": [],
   "source": [
    "import pandas as pd\n",
    "import numpy as np"
   ]
  },
  {
   "cell_type": "code",
   "execution_count": null,
   "id": "4390fab6",
   "metadata": {},
   "outputs": [],
   "source": [
    "path=\"https://archive.ics.uci.edu/ml/machine-learning-databases/car/car.data\""
   ]
  },
  {
   "cell_type": "code",
   "execution_count": null,
   "id": "a53977e7",
   "metadata": {},
   "outputs": [],
   "source": [
    "df=pd.read_csv(path , header=None)"
   ]
  },
  {
   "cell_type": "code",
   "execution_count": null,
   "id": "2a3d101e",
   "metadata": {},
   "outputs": [],
   "source": [
    "df.head()"
   ]
  },
  {
   "cell_type": "code",
   "execution_count": null,
   "id": "7442f2bd",
   "metadata": {},
   "outputs": [],
   "source": [
    "df.tail()"
   ]
  },
  {
   "cell_type": "code",
   "execution_count": null,
   "id": "5aa2a361",
   "metadata": {},
   "outputs": [],
   "source": [
    "df.columns=['buying','maint','doors', 'persons','lug_boot','safaty','class']"
   ]
  },
  {
   "cell_type": "markdown",
   "id": "52d6b6c0",
   "metadata": {},
   "source": [
    "**Basic insights from data**"
   ]
  },
  {
   "cell_type": "code",
   "execution_count": null,
   "id": "4c5abf73",
   "metadata": {},
   "outputs": [],
   "source": [
    "df.dtypes"
   ]
  },
  {
   "cell_type": "code",
   "execution_count": null,
   "id": "1bfb27d9",
   "metadata": {},
   "outputs": [],
   "source": [
    "df.describe()"
   ]
  },
  {
   "cell_type": "code",
   "execution_count": null,
   "id": "72204e12",
   "metadata": {},
   "outputs": [],
   "source": [
    "df.describe(include='all')"
   ]
  },
  {
   "cell_type": "code",
   "execution_count": null,
   "id": "c7a00799",
   "metadata": {},
   "outputs": [],
   "source": [
    "df.info()"
   ]
  },
  {
   "cell_type": "markdown",
   "id": "4e93be2a",
   "metadata": {},
   "source": [
    "**Accessing database using DB Api**"
   ]
  },
  {
   "cell_type": "code",
   "execution_count": null,
   "id": "64a1bd42",
   "metadata": {},
   "outputs": [],
   "source": [
    "import MySQLdb"
   ]
  },
  {
   "cell_type": "code",
   "execution_count": null,
   "id": "d80717d8",
   "metadata": {},
   "outputs": [],
   "source": [
    "#create a connection object\n",
    "connection=MySQLdb.connect(host='localhost',user='root',password='')\n",
    "#create a cursor object\n",
    "cursor=connection.cursor()\n",
    "#run a query\n",
    "cursor.execute('Create database library')\n",
    "#Free resources\n",
    "cursor.close()\n",
    "connection.close()"
   ]
  },
  {
   "cell_type": "markdown",
   "id": "b1dbe250",
   "metadata": {},
   "source": [
    "**Data Preprocessing**"
   ]
  },
  {
   "cell_type": "markdown",
   "id": "7700f7d2",
   "metadata": {},
   "source": [
    "Data preprocessing is the process of converting or mapping data from the initia form to another format, in order to prepare the data for further analysis. Also called data cleaning and data wrangling"
   ]
  },
  {
   "cell_type": "markdown",
   "id": "fa119519",
   "metadata": {},
   "source": [
    "**Dealing with missing values**"
   ]
  },
  {
   "cell_type": "code",
   "execution_count": null,
   "id": "2b1f57ed",
   "metadata": {},
   "outputs": [],
   "source": [
    "# dictionary of lists\n",
    "dict = {'First Score':[100, np.nan, np.nan, 95],\n",
    "        'Second Score': [30, np.nan, 45, 56],\n",
    "        'Third Score':[52, np.nan, 80, 98],\n",
    "        'Fourth Score':[60, 67, 68, 65]}\n",
    " \n",
    "# creating a dataframe from dictionary \n",
    "df = pd.DataFrame(dict)\n",
    " \n"
   ]
  },
  {
   "cell_type": "code",
   "execution_count": null,
   "id": "02a83430",
   "metadata": {},
   "outputs": [],
   "source": [
    "df"
   ]
  },
  {
   "cell_type": "code",
   "execution_count": null,
   "id": "072e6f4b",
   "metadata": {},
   "outputs": [],
   "source": [
    "# using dropna() function    \n",
    "df.dropna(axis = 0)"
   ]
  },
  {
   "cell_type": "code",
   "execution_count": null,
   "id": "fe4d66e7",
   "metadata": {},
   "outputs": [],
   "source": [
    "# using dropna() function    \n",
    "df.dropna(axis = 0,inplace=True)"
   ]
  },
  {
   "cell_type": "code",
   "execution_count": null,
   "id": "384d46ed",
   "metadata": {},
   "outputs": [],
   "source": [
    "# using dropna() function    \n",
    "df.dropna(subset=[\"Second Score\"], axis = 0)"
   ]
  },
  {
   "cell_type": "markdown",
   "id": "34637f60",
   "metadata": {},
   "source": [
    "Replacing missing values"
   ]
  },
  {
   "cell_type": "code",
   "execution_count": null,
   "id": "e2816682",
   "metadata": {},
   "outputs": [],
   "source": [
    "df[\"First Score\"].replace(np.nan,df[\"First Score\"].mean(),inplace=True)"
   ]
  },
  {
   "cell_type": "code",
   "execution_count": null,
   "id": "c8c15cd6",
   "metadata": {},
   "outputs": [],
   "source": [
    "df[\"Second Score\"].replace(np.nan,df[\"Second Score\"].mean(),inplace=True)"
   ]
  },
  {
   "cell_type": "code",
   "execution_count": null,
   "id": "f31534c4",
   "metadata": {},
   "outputs": [],
   "source": [
    "df[\"Third Score\"].replace(np.nan,df[\"Third Score\"].mean(),inplace=True)"
   ]
  },
  {
   "cell_type": "code",
   "execution_count": null,
   "id": "ef6ede8d",
   "metadata": {},
   "outputs": [],
   "source": [
    "df"
   ]
  },
  {
   "cell_type": "markdown",
   "id": "3731ae0d",
   "metadata": {},
   "source": [
    "**Data Formatting**"
   ]
  },
  {
   "cell_type": "code",
   "execution_count": null,
   "id": "61b2b393",
   "metadata": {},
   "outputs": [],
   "source": [
    "df.dtypes"
   ]
  },
  {
   "cell_type": "code",
   "execution_count": null,
   "id": "26525cc3",
   "metadata": {},
   "outputs": [],
   "source": [
    "df[\"Fourth Score\"]=df[\"Fourth Score\"].astype(\"float\")"
   ]
  },
  {
   "cell_type": "code",
   "execution_count": null,
   "id": "cd22017c",
   "metadata": {},
   "outputs": [],
   "source": [
    "df.dtypes"
   ]
  },
  {
   "cell_type": "markdown",
   "id": "449a341f",
   "metadata": {},
   "source": [
    "**Data Normalization** "
   ]
  },
  {
   "cell_type": "markdown",
   "id": "607b5601",
   "metadata": {},
   "source": [
    "Methods of Normalization\n",
    "1st: Simple feature scalling\n",
    "2nd: Min max \n",
    "3rd: Z-Score "
   ]
  },
  {
   "cell_type": "markdown",
   "id": "27fb000d",
   "metadata": {},
   "source": [
    "1st Method"
   ]
  },
  {
   "cell_type": "code",
   "execution_count": null,
   "id": "41db0595",
   "metadata": {},
   "outputs": [],
   "source": [
    "df[\"large_vals\"]=[100023,455656,890987,345678]"
   ]
  },
  {
   "cell_type": "code",
   "execution_count": null,
   "id": "9e16facb",
   "metadata": {},
   "outputs": [],
   "source": [
    "df[\"large_vals\"]=df[\"large_vals\"]/df[\"large_vals\"].max()"
   ]
  },
  {
   "cell_type": "code",
   "execution_count": null,
   "id": "c5a4e271",
   "metadata": {},
   "outputs": [],
   "source": [
    "df"
   ]
  },
  {
   "cell_type": "markdown",
   "id": "248742bc",
   "metadata": {},
   "source": [
    "2nd Method"
   ]
  },
  {
   "cell_type": "code",
   "execution_count": null,
   "id": "e40a63b1",
   "metadata": {},
   "outputs": [],
   "source": [
    "df[\"large_vals\"]=(df[\"large_vals\"]- df[\"large_vals\"].min())/(df[\"large_vals\"].max() - df[\"large_vals\"].min())"
   ]
  },
  {
   "cell_type": "code",
   "execution_count": null,
   "id": "74bbe095",
   "metadata": {},
   "outputs": [],
   "source": [
    "df"
   ]
  },
  {
   "cell_type": "markdown",
   "id": "b18dc487",
   "metadata": {},
   "source": [
    "3rd Method"
   ]
  },
  {
   "cell_type": "code",
   "execution_count": null,
   "id": "97321000",
   "metadata": {},
   "outputs": [],
   "source": [
    "df[\"large_vals\"]=(df[\"large_vals\"]- df[\"large_vals\"].mean())/df[\"large_vals\"].std()"
   ]
  },
  {
   "cell_type": "code",
   "execution_count": null,
   "id": "d8ef4930",
   "metadata": {},
   "outputs": [],
   "source": [
    "df"
   ]
  },
  {
   "cell_type": "markdown",
   "id": "3cdf2638",
   "metadata": {},
   "source": [
    "**Binning : group values into bins**"
   ]
  },
  {
   "cell_type": "code",
   "execution_count": null,
   "id": "0ffdda3d",
   "metadata": {},
   "outputs": [],
   "source": [
    "bins= np.linspace(min(df[\"Third Score\"]) , max(df[\"Third Score\"]),4)\n",
    "group_names=['low','medium','high']\n",
    "df[\"score_binned\"]=pd.cut(df[\"Third Score\"],bins,labels=group_names,include_lowest=True)"
   ]
  },
  {
   "cell_type": "code",
   "execution_count": null,
   "id": "49fda3f9",
   "metadata": {},
   "outputs": [],
   "source": [
    "df"
   ]
  },
  {
   "cell_type": "markdown",
   "id": "69c0f805",
   "metadata": {},
   "source": [
    "**Categorical variables**"
   ]
  },
  {
   "cell_type": "code",
   "execution_count": null,
   "id": "8017ac02",
   "metadata": {},
   "outputs": [],
   "source": [
    "df['std_cat']=['A','B','C','A']"
   ]
  },
  {
   "cell_type": "code",
   "execution_count": null,
   "id": "3a04bf18",
   "metadata": {},
   "outputs": [],
   "source": [
    "df1=pd.get_dummies(df['std_cat'])"
   ]
  },
  {
   "cell_type": "code",
   "execution_count": null,
   "id": "31261af8",
   "metadata": {},
   "outputs": [],
   "source": [
    "df=pd.concat([df,df1],axis=1)"
   ]
  },
  {
   "cell_type": "code",
   "execution_count": null,
   "id": "3f4a85e5",
   "metadata": {},
   "outputs": [],
   "source": [
    "df"
   ]
  },
  {
   "cell_type": "markdown",
   "id": "0bd77dde",
   "metadata": {},
   "source": [
    "**EDA**"
   ]
  },
  {
   "cell_type": "markdown",
   "id": "cd477ca2",
   "metadata": {},
   "source": [
    "It is an approach to analyze data in order to summarise main characteristics of data , gain better understanding of dataset, uncover relationship between variables and extract important features. Mainly its purpose is to find the charecteristics that most affect target variaable."
   ]
  },
  {
   "cell_type": "markdown",
   "id": "e2b6f2b2",
   "metadata": {},
   "source": [
    "**Discriptive Statistics**"
   ]
  },
  {
   "cell_type": "code",
   "execution_count": null,
   "id": "822e293e",
   "metadata": {},
   "outputs": [],
   "source": [
    "df=pd.read_csv('houseprice.csv')"
   ]
  },
  {
   "cell_type": "code",
   "execution_count": null,
   "id": "166c57b3",
   "metadata": {},
   "outputs": [],
   "source": [
    "df"
   ]
  },
  {
   "cell_type": "code",
   "execution_count": null,
   "id": "58bd9dbe",
   "metadata": {},
   "outputs": [],
   "source": [
    "df.describe(include=\"all\")"
   ]
  },
  {
   "cell_type": "code",
   "execution_count": null,
   "id": "b517f432",
   "metadata": {},
   "outputs": [],
   "source": [
    "df.columns"
   ]
  },
  {
   "cell_type": "code",
   "execution_count": null,
   "id": "1f6b21de",
   "metadata": {},
   "outputs": [],
   "source": [
    "df.info()"
   ]
  },
  {
   "cell_type": "code",
   "execution_count": null,
   "id": "d91fdf6e",
   "metadata": {},
   "outputs": [],
   "source": [
    "df.drop(\"ADDRESS\",axis=1,inplace=True)"
   ]
  },
  {
   "cell_type": "code",
   "execution_count": null,
   "id": "e42953fa",
   "metadata": {},
   "outputs": [],
   "source": [
    "df.drop(\"POSTED_BY\",axis=1,inplace=True)"
   ]
  },
  {
   "cell_type": "code",
   "execution_count": null,
   "id": "eb6b35f9",
   "metadata": {},
   "outputs": [],
   "source": [
    "df.head()"
   ]
  },
  {
   "cell_type": "markdown",
   "id": "1a740283",
   "metadata": {},
   "source": [
    "**Summarising the categorical data**"
   ]
  },
  {
   "cell_type": "code",
   "execution_count": null,
   "id": "1e8c4df9",
   "metadata": {},
   "outputs": [],
   "source": [
    "valueOfCount=df[\"BHK_OR_RK\"].value_counts().to_frame()"
   ]
  },
  {
   "cell_type": "code",
   "execution_count": null,
   "id": "6ed47d46",
   "metadata": {},
   "outputs": [],
   "source": [
    "valueOfCount"
   ]
  },
  {
   "cell_type": "markdown",
   "id": "b2a88be9",
   "metadata": {},
   "source": [
    "**BOX PLOT**"
   ]
  },
  {
   "cell_type": "markdown",
   "id": "d2c68e82",
   "metadata": {},
   "source": [
    "They are great way of visualising numeric data, since we can visualze various distribution of data. The main features tha box plot shows median,upper quartile,lower quartile, upper extreme, lower extreme, whisker and also outliers."
   ]
  },
  {
   "cell_type": "code",
   "execution_count": null,
   "id": "1169a767",
   "metadata": {},
   "outputs": [],
   "source": [
    "import seaborn as sns"
   ]
  },
  {
   "cell_type": "code",
   "execution_count": null,
   "id": "82466032",
   "metadata": {},
   "outputs": [],
   "source": [
    "sns.boxplot(x=\"BHK_OR_RK\",y=\"TARGET(PRICE_IN_LACS)\" ,data=df, whis=[5,95])"
   ]
  },
  {
   "cell_type": "markdown",
   "id": "2ff77882",
   "metadata": {},
   "source": [
    "**Scatter Plot**"
   ]
  },
  {
   "cell_type": "markdown",
   "id": "f593b810",
   "metadata": {},
   "source": [
    "They show the relationship between two variables"
   ]
  },
  {
   "cell_type": "code",
   "execution_count": null,
   "id": "c0b699b9",
   "metadata": {},
   "outputs": [],
   "source": [
    "import matplotlib.pyplot as plt"
   ]
  },
  {
   "cell_type": "code",
   "execution_count": null,
   "id": "4d157a2f",
   "metadata": {},
   "outputs": [],
   "source": [
    "x=df[\"SQUARE_FT\"]\n",
    "y=df[\"TARGET(PRICE_IN_LACS)\"]\n",
    "plt.scatter(x,y)\n",
    "plt.xlabel(\"Sq ft\")\n",
    "plt.ylabel(\"Price\")\n",
    "plt.show()\n"
   ]
  },
  {
   "cell_type": "code",
   "execution_count": null,
   "id": "e61a8cc7",
   "metadata": {},
   "outputs": [],
   "source": [
    "df.describe()"
   ]
  },
  {
   "cell_type": "code",
   "execution_count": null,
   "id": "7ab7cab9",
   "metadata": {},
   "outputs": [],
   "source": [
    "df['RERA'].unique()"
   ]
  },
  {
   "cell_type": "code",
   "execution_count": null,
   "id": "989a653c",
   "metadata": {},
   "outputs": [],
   "source": [
    "df['BHK_NO.'].unique()"
   ]
  },
  {
   "cell_type": "code",
   "execution_count": null,
   "id": "c4b137f4",
   "metadata": {},
   "outputs": [],
   "source": [
    "df['READY_TO_MOVE'].unique()"
   ]
  },
  {
   "cell_type": "code",
   "execution_count": null,
   "id": "70c83ddf",
   "metadata": {},
   "outputs": [],
   "source": [
    "df['UNDER_CONSTRUCTION'].unique()"
   ]
  },
  {
   "cell_type": "markdown",
   "id": "b233aff3",
   "metadata": {},
   "source": [
    "**Heat Map**"
   ]
  },
  {
   "cell_type": "code",
   "execution_count": null,
   "id": "70601f2a",
   "metadata": {},
   "outputs": [],
   "source": [
    "# Program to plot 2-D Heat map\n",
    "# using seaborn.heatmap() method\n",
    "import numpy as np\n",
    "import seaborn as sns\n",
    "import matplotlib.pylab as plt\n",
    "  \n",
    "data_set = np.random.rand( 10 , 10 )\n",
    "ax = sns.heatmap( data_set , linewidth = 0.5 , cmap = 'coolwarm' )\n",
    "  \n",
    "plt.title( \"2-D Heat Map\" )\n",
    "plt.show()"
   ]
  },
  {
   "cell_type": "code",
   "execution_count": null,
   "id": "40a9f97a",
   "metadata": {},
   "outputs": [],
   "source": [
    "df.columns"
   ]
  },
  {
   "cell_type": "code",
   "execution_count": null,
   "id": "d384aa55",
   "metadata": {},
   "outputs": [],
   "source": [
    "# selecting a couple columns\n",
    "couple_columns = df[['TARGET(PRICE_IN_LACS)','BHK_NO.', 'READY_TO_MOVE']]\n",
    "couple_columns.head()"
   ]
  },
  {
   "cell_type": "code",
   "execution_count": null,
   "id": "99053d3e",
   "metadata": {},
   "outputs": [],
   "source": [
    "# this is essentially would be taking the average of each unique combination. \n",
    "# one important mention is notice how little the data varies from eachother.\n",
    "phase_1_2 = couple_columns.groupby(['BHK_NO.', 'READY_TO_MOVE']).mean()\n",
    "print(phase_1_2.shape)\n",
    "phase_1_2.head(10)"
   ]
  },
  {
   "cell_type": "code",
   "execution_count": null,
   "id": "2d30f1ac",
   "metadata": {},
   "outputs": [],
   "source": [
    "phase_1_2 = phase_1_2.reset_index()\n",
    "phase_1_2.head()"
   ]
  },
  {
   "cell_type": "code",
   "execution_count": null,
   "id": "7d857577",
   "metadata": {},
   "outputs": [],
   "source": [
    "import numpy as np;\n",
    "import seaborn as sns; \n",
    "\n",
    "# To translate into Excel Terms for those familiar with Excel\n",
    "# string 1 is row labels 'helix1 phase'\n",
    "# string 2 is column labels 'helix 2 phase'\n",
    "# string 3 is values 'Energy'\n",
    "# Official pivot documentation\n",
    "# http://pandas.pydata.org/pandas-docs/stable/generated/pandas.DataFrame.pivot.html\n",
    "\n",
    "phase_1_2.pivot('BHK_NO.', 'READY_TO_MOVE', 'TARGET(PRICE_IN_LACS)').head()"
   ]
  },
  {
   "cell_type": "code",
   "execution_count": null,
   "id": "3c904762",
   "metadata": {},
   "outputs": [],
   "source": [
    "plt.figure(figsize=(9,9))\n",
    "pivot_table = phase_1_2.pivot('BHK_NO.', 'READY_TO_MOVE','TARGET(PRICE_IN_LACS)')\n",
    "plt.xlabel('BHK_NO.', size = 15)\n",
    "plt.ylabel('READY_TO_MOVE', size = 15)\n",
    "plt.title('Price of Homes wrt BHK NO', size = 15)\n",
    "sns.heatmap(pivot_table, annot=True, fmt=\".1f\", linewidths=.5, square = True, cmap = 'Blues_r');"
   ]
  },
  {
   "cell_type": "markdown",
   "id": "eab69728",
   "metadata": {},
   "source": [
    "**Correlation**"
   ]
  },
  {
   "cell_type": "markdown",
   "id": "a52c3535",
   "metadata": {},
   "source": [
    "Measures to what extent different variables are interdependent"
   ]
  },
  {
   "cell_type": "code",
   "execution_count": null,
   "id": "f9321f4c",
   "metadata": {},
   "outputs": [],
   "source": [
    "sns.regplot(x=\"BHK_NO.\",y=\"TARGET(PRICE_IN_LACS)\", data=df)\n",
    "plt.ylim(0,)"
   ]
  },
  {
   "cell_type": "markdown",
   "id": "255bdbd2",
   "metadata": {},
   "source": [
    "Therefor weak correlation between the two variables"
   ]
  },
  {
   "cell_type": "markdown",
   "id": "43252896",
   "metadata": {},
   "source": [
    "Various correlation statistical methods"
   ]
  },
  {
   "cell_type": "markdown",
   "id": "0b09c7ae",
   "metadata": {},
   "source": [
    "1st Pearson Correlation: It gives us correlation coefficiant and P-value"
   ]
  },
  {
   "cell_type": "markdown",
   "id": "403ec7f0",
   "metadata": {},
   "source": [
    "![PEARSON](pearsoncorrelation.png)\n"
   ]
  },
  {
   "cell_type": "code",
   "execution_count": null,
   "id": "439f9363",
   "metadata": {},
   "outputs": [],
   "source": [
    "from scipy import stats"
   ]
  },
  {
   "cell_type": "code",
   "execution_count": null,
   "id": "1efef164",
   "metadata": {},
   "outputs": [],
   "source": [
    "pearson_co,p_val=stats.pearsonr(df[\"BHK_NO.\"],df[\"TARGET(PRICE_IN_LACS)\"])"
   ]
  },
  {
   "cell_type": "code",
   "execution_count": null,
   "id": "e8f2adbe",
   "metadata": {},
   "outputs": [],
   "source": [
    "pearson_co"
   ]
  },
  {
   "cell_type": "code",
   "execution_count": null,
   "id": "d1dd3d2e",
   "metadata": {},
   "outputs": [],
   "source": [
    "p_val"
   ]
  },
  {
   "cell_type": "markdown",
   "id": "59944797",
   "metadata": {},
   "source": [
    "**Correlation Heatmap**"
   ]
  },
  {
   "cell_type": "code",
   "execution_count": null,
   "id": "a5cf621a",
   "metadata": {},
   "outputs": [],
   "source": [
    "print(df.corr())\n",
    "\n",
    "# plotting correlation heatmap\n",
    "dataplot = sns.heatmap(df.corr(), cmap=\"YlGnBu\", annot=True)\n",
    "\n",
    "# displaying heatmap\n",
    "plt.show()\n"
   ]
  },
  {
   "cell_type": "markdown",
   "id": "4816bc5e",
   "metadata": {},
   "source": [
    "**Model Development**"
   ]
  },
  {
   "cell_type": "markdown",
   "id": "a5b5d0bc",
   "metadata": {},
   "source": [
    "**Simple Linear Regression**"
   ]
  },
  {
   "cell_type": "code",
   "execution_count": null,
   "id": "5b56771e",
   "metadata": {},
   "outputs": [],
   "source": [
    "from sklearn.linear_model import LinearRegression"
   ]
  },
  {
   "cell_type": "code",
   "execution_count": null,
   "id": "4e214ccb",
   "metadata": {},
   "outputs": [],
   "source": [
    "lm=LinearRegression()"
   ]
  },
  {
   "cell_type": "code",
   "execution_count": null,
   "id": "4327bb0c",
   "metadata": {},
   "outputs": [],
   "source": [
    "X=df[[\"BHK_NO.\"]]\n",
    "Y=df[\"TARGET(PRICE_IN_LACS)\"]"
   ]
  },
  {
   "cell_type": "code",
   "execution_count": null,
   "id": "f4f76e40",
   "metadata": {},
   "outputs": [],
   "source": [
    "\n",
    "lm.fit(X,Y)"
   ]
  },
  {
   "cell_type": "code",
   "execution_count": null,
   "id": "66ebc4fc",
   "metadata": {},
   "outputs": [],
   "source": [
    "results=lm.predict(X)"
   ]
  },
  {
   "cell_type": "code",
   "execution_count": null,
   "id": "ba33601a",
   "metadata": {},
   "outputs": [],
   "source": [
    "lm.intercept_"
   ]
  },
  {
   "cell_type": "code",
   "execution_count": null,
   "id": "eec9716a",
   "metadata": {},
   "outputs": [],
   "source": [
    "lm.coef_"
   ]
  },
  {
   "cell_type": "markdown",
   "id": "95be0d06",
   "metadata": {},
   "source": [
    "**Multiple Linear Regression**"
   ]
  },
  {
   "cell_type": "code",
   "execution_count": null,
   "id": "73194f42",
   "metadata": {},
   "outputs": [],
   "source": [
    "lm=LinearRegression()\n",
    "X=df[[\"BHK_NO.\",\"SQUARE_FT\",\"LONGITUDE\",\"LATITUDE\"]]\n",
    "Y=df[\"TARGET(PRICE_IN_LACS)\"]"
   ]
  },
  {
   "cell_type": "code",
   "execution_count": null,
   "id": "301c8600",
   "metadata": {},
   "outputs": [],
   "source": [
    "lm.fit(X,Y)"
   ]
  },
  {
   "cell_type": "code",
   "execution_count": null,
   "id": "0bfa0d87",
   "metadata": {},
   "outputs": [],
   "source": [
    "lm.predict(X)"
   ]
  },
  {
   "cell_type": "code",
   "execution_count": null,
   "id": "3aefa7bd",
   "metadata": {},
   "outputs": [],
   "source": [
    "results=lm.predict(X)"
   ]
  },
  {
   "cell_type": "code",
   "execution_count": null,
   "id": "a4e5e5c7",
   "metadata": {},
   "outputs": [],
   "source": [
    "lm.coef_"
   ]
  },
  {
   "cell_type": "code",
   "execution_count": null,
   "id": "8bab9034",
   "metadata": {},
   "outputs": [],
   "source": [
    "lm.intercept_"
   ]
  },
  {
   "cell_type": "markdown",
   "id": "d2597269",
   "metadata": {},
   "source": [
    "**Regression Plot**"
   ]
  },
  {
   "cell_type": "code",
   "execution_count": null,
   "id": "67ea425e",
   "metadata": {},
   "outputs": [],
   "source": [
    "sns.regplot(x=\"BHK_NO.\",y=\"TARGET(PRICE_IN_LACS)\",data=df)"
   ]
  },
  {
   "cell_type": "markdown",
   "id": "97f6a003",
   "metadata": {},
   "source": [
    "**Residual Plot Represent the error between the actual value**"
   ]
  },
  {
   "cell_type": "code",
   "execution_count": null,
   "id": "5fe8f35d",
   "metadata": {},
   "outputs": [],
   "source": [
    "sns.residplot(df[\"SQUARE_FT\"],df[\"TARGET(PRICE_IN_LACS)\"])"
   ]
  },
  {
   "cell_type": "markdown",
   "id": "8615e2d6",
   "metadata": {},
   "source": [
    "Distribution Plot : Compare the distribution"
   ]
  },
  {
   "cell_type": "code",
   "execution_count": null,
   "id": "f16962c4",
   "metadata": {},
   "outputs": [],
   "source": [
    "axl=sns.distplot(df[\"TARGET(PRICE_IN_LACS)\"],hist=False,color=\"r\",label=\"Actual Values\")\n",
    "sns.distplot(results,hist=False,color=\"b\",label=\"Predicted Value\",ax=axl)"
   ]
  },
  {
   "cell_type": "markdown",
   "id": "67f2da5c",
   "metadata": {},
   "source": [
    "**Polynomial Regression**"
   ]
  },
  {
   "cell_type": "code",
   "execution_count": null,
   "id": "336c6e2b",
   "metadata": {},
   "outputs": [],
   "source": [
    "X=df[\"BHK_NO.\"]\n",
    "f=np.polyfit(X,Y,3)"
   ]
  },
  {
   "cell_type": "code",
   "execution_count": null,
   "id": "bb36fdd3",
   "metadata": {},
   "outputs": [],
   "source": [
    "p=np.poly1d(f)"
   ]
  },
  {
   "cell_type": "code",
   "execution_count": null,
   "id": "48cdc50d",
   "metadata": {},
   "outputs": [],
   "source": [
    "print(p)"
   ]
  },
  {
   "cell_type": "markdown",
   "id": "849e8d17",
   "metadata": {},
   "source": [
    "Polynomial Regression with more than one dimention"
   ]
  },
  {
   "cell_type": "code",
   "execution_count": null,
   "id": "4ecb6d91",
   "metadata": {},
   "outputs": [],
   "source": [
    "from sklearn.preprocessing import PolynomialFeatures"
   ]
  },
  {
   "cell_type": "code",
   "execution_count": null,
   "id": "b939f983",
   "metadata": {},
   "outputs": [],
   "source": [
    "pr=PolynomialFeatures(degree=2,include_bias=False)"
   ]
  },
  {
   "cell_type": "code",
   "execution_count": null,
   "id": "cd941ef2",
   "metadata": {},
   "outputs": [],
   "source": [
    "from sklearn.preprocessing import StandardScaler"
   ]
  },
  {
   "cell_type": "code",
   "execution_count": null,
   "id": "191a3528",
   "metadata": {},
   "outputs": [],
   "source": [
    "scale=StandardScaler()"
   ]
  },
  {
   "cell_type": "code",
   "execution_count": null,
   "id": "62df9c00",
   "metadata": {},
   "outputs": [],
   "source": [
    "scale.fit(df[[\"BHK_NO.\",\"SQUARE_FT\"]])"
   ]
  },
  {
   "cell_type": "code",
   "execution_count": null,
   "id": "a9e2ce6a",
   "metadata": {},
   "outputs": [],
   "source": [
    "x_scale=scale.transform(df[[\"BHK_NO.\",\"SQUARE_FT\"]])"
   ]
  },
  {
   "cell_type": "code",
   "execution_count": null,
   "id": "cba20037",
   "metadata": {},
   "outputs": [],
   "source": [
    "x_scale"
   ]
  },
  {
   "cell_type": "markdown",
   "id": "fb6ebf1a",
   "metadata": {},
   "source": [
    "**Pipelines**"
   ]
  },
  {
   "cell_type": "code",
   "execution_count": null,
   "id": "f05ab73b",
   "metadata": {},
   "outputs": [],
   "source": [
    "from sklearn.preprocessing import StandardScaler\n",
    "from sklearn.linear_model import LinearRegression\n",
    "from sklearn.preprocessing import PolynomialFeatures\n",
    "from sklearn.pipeline import Pipeline"
   ]
  },
  {
   "cell_type": "code",
   "execution_count": null,
   "id": "26ef5c1e",
   "metadata": {},
   "outputs": [],
   "source": [
    "Input=[(\"scale\",StandardScaler()),(\"polynomial\",PolynomialFeatures(degree=2)),(\"model\",LinearRegression())]"
   ]
  },
  {
   "cell_type": "code",
   "execution_count": null,
   "id": "ab4632c4",
   "metadata": {},
   "outputs": [],
   "source": [
    "pip=Pipeline(Input)"
   ]
  },
  {
   "cell_type": "code",
   "execution_count": null,
   "id": "6c12b61f",
   "metadata": {},
   "outputs": [],
   "source": [
    "pip.fit(X,Y)"
   ]
  },
  {
   "cell_type": "code",
   "execution_count": null,
   "id": "13803e29",
   "metadata": {},
   "outputs": [],
   "source": [
    "results=pip.predict(X)"
   ]
  },
  {
   "cell_type": "code",
   "execution_count": null,
   "id": "f75a404a",
   "metadata": {},
   "outputs": [],
   "source": [
    "results"
   ]
  },
  {
   "cell_type": "markdown",
   "id": "87ddab09",
   "metadata": {},
   "source": [
    "**Model Evaluation**"
   ]
  },
  {
   "cell_type": "markdown",
   "id": "c205bbb1",
   "metadata": {},
   "source": [
    "**MSE**"
   ]
  },
  {
   "cell_type": "code",
   "execution_count": null,
   "id": "1bffe1f5",
   "metadata": {},
   "outputs": [],
   "source": [
    "from sklearn.metrics import mean_squared_error"
   ]
  },
  {
   "cell_type": "code",
   "execution_count": null,
   "id": "8bee8b2f",
   "metadata": {},
   "outputs": [],
   "source": [
    "mean_squared_error(df[\"TARGET(PRICE_IN_LACS)\"], results)"
   ]
  },
  {
   "cell_type": "markdown",
   "id": "f9264ed0",
   "metadata": {},
   "source": [
    "**R-Squared**"
   ]
  },
  {
   "cell_type": "code",
   "execution_count": null,
   "id": "b2013072",
   "metadata": {},
   "outputs": [],
   "source": [
    "lm.fit(X,Y)"
   ]
  },
  {
   "cell_type": "code",
   "execution_count": null,
   "id": "39c99bd4",
   "metadata": {},
   "outputs": [],
   "source": [
    "lm.score(X,Y)"
   ]
  },
  {
   "cell_type": "markdown",
   "id": "3238ab32",
   "metadata": {},
   "source": [
    "**Train_test_split() Method**"
   ]
  },
  {
   "cell_type": "code",
   "execution_count": null,
   "id": "6dcb0dee",
   "metadata": {},
   "outputs": [],
   "source": [
    "from sklearn.model_selection import train_test_split"
   ]
  },
  {
   "cell_type": "code",
   "execution_count": null,
   "id": "90b234a0",
   "metadata": {},
   "outputs": [],
   "source": [
    "df.columns"
   ]
  },
  {
   "cell_type": "code",
   "execution_count": null,
   "id": "05a55b0c",
   "metadata": {},
   "outputs": [],
   "source": [
    "X=df[['UNDER_CONSTRUCTION', 'RERA', 'BHK_NO.', 'SQUARE_FT',\n",
    "       'READY_TO_MOVE', 'RESALE', 'LONGITUDE', 'LATITUDE']]\n",
    "Y=df[\"TARGET(PRICE_IN_LACS)\"]"
   ]
  },
  {
   "cell_type": "code",
   "execution_count": null,
   "id": "017fc5d1",
   "metadata": {},
   "outputs": [],
   "source": [
    "X_train, X_test, y_train, y_test=train_test_split(X,Y,test_size=0.3,random_state=0)"
   ]
  },
  {
   "cell_type": "markdown",
   "id": "5e93de78",
   "metadata": {},
   "source": [
    "**Cross Validation**"
   ]
  },
  {
   "cell_type": "code",
   "execution_count": null,
   "id": "cbb81690",
   "metadata": {},
   "outputs": [],
   "source": [
    "from sklearn.model_selection import cross_val_score"
   ]
  },
  {
   "cell_type": "code",
   "execution_count": null,
   "id": "c2658ccb",
   "metadata": {},
   "outputs": [],
   "source": [
    "X=df[['UNDER_CONSTRUCTION', 'RERA', 'BHK_NO.', 'SQUARE_FT',\n",
    "       'READY_TO_MOVE', 'RESALE', 'LONGITUDE', 'LATITUDE']]\n",
    "Y=df[\"TARGET(PRICE_IN_LACS)\"]\n",
    "lr=LinearRegression()"
   ]
  },
  {
   "cell_type": "code",
   "execution_count": null,
   "id": "663ffce3",
   "metadata": {},
   "outputs": [],
   "source": [
    "scores=cross_val_score(lr,X,Y,cv=2)"
   ]
  },
  {
   "cell_type": "code",
   "execution_count": null,
   "id": "3eca3c58",
   "metadata": {},
   "outputs": [],
   "source": [
    "np.max(scores)"
   ]
  },
  {
   "cell_type": "markdown",
   "id": "6db8a2e6",
   "metadata": {},
   "source": [
    "Underfitting Where a model is too simple to fit the data"
   ]
  },
  {
   "cell_type": "markdown",
   "id": "9160550c",
   "metadata": {},
   "source": [
    "Overfitting where a model is too flexible and fits the noise rather than a function"
   ]
  },
  {
   "cell_type": "markdown",
   "id": "d0062d94",
   "metadata": {},
   "source": [
    "**Model Selection which polynomial degree is best fit**"
   ]
  },
  {
   "cell_type": "code",
   "execution_count": null,
   "id": "ee69e1d5",
   "metadata": {},
   "outputs": [],
   "source": [
    "X_train"
   ]
  },
  {
   "cell_type": "code",
   "execution_count": null,
   "id": "ea0815ad",
   "metadata": {},
   "outputs": [],
   "source": [
    "X_test.shape"
   ]
  },
  {
   "cell_type": "code",
   "execution_count": null,
   "id": "be7c94f8",
   "metadata": {},
   "outputs": [],
   "source": [
    "x_test_pr.shape"
   ]
  },
  {
   "cell_type": "code",
   "execution_count": null,
   "id": "b6c9fe85",
   "metadata": {},
   "outputs": [],
   "source": [
    "x_train_pr.shape"
   ]
  },
  {
   "cell_type": "code",
   "execution_count": null,
   "id": "119f6ace",
   "metadata": {},
   "outputs": [],
   "source": [
    "y_test.shape"
   ]
  },
  {
   "cell_type": "code",
   "execution_count": null,
   "id": "13691f2f",
   "metadata": {},
   "outputs": [],
   "source": [
    "y_train.shape"
   ]
  },
  {
   "cell_type": "code",
   "execution_count": null,
   "id": "b4530448",
   "metadata": {},
   "outputs": [],
   "source": [
    "resq_test=[]\n",
    "order=[1,2,3,4]\n",
    "for i in order:\n",
    "    pr=PolynomialFeatures(degree=i)\n",
    "    x_train_pr=pr.fit_transform(X_train[[\"SQUARE_FT\"]])\n",
    "    x_test_pr=pr.fit_transform(X_test[[\"SQUARE_FT\"]])\n",
    "    lr.fit(x_train_pr,y_train)\n",
    "    resq_test.append(lr.score(x_test_pr,y_test))"
   ]
  },
  {
   "cell_type": "code",
   "execution_count": null,
   "id": "93b1a23f",
   "metadata": {},
   "outputs": [],
   "source": [
    "resq_test"
   ]
  },
  {
   "cell_type": "markdown",
   "id": "d0e5ce94",
   "metadata": {},
   "source": [
    "**Ridge Regression**"
   ]
  },
  {
   "cell_type": "code",
   "execution_count": null,
   "id": "bf22acb5",
   "metadata": {},
   "outputs": [],
   "source": [
    "from sklearn.linear_model import Ridge"
   ]
  },
  {
   "cell_type": "code",
   "execution_count": null,
   "id": "c5f98d66",
   "metadata": {},
   "outputs": [],
   "source": [
    "ridge_model=Ridge(alpha=10)\n",
    "ridge_model.fit(X,Y)"
   ]
  },
  {
   "cell_type": "code",
   "execution_count": null,
   "id": "4cd3353b",
   "metadata": {},
   "outputs": [],
   "source": [
    "results=ridge_model.predict(X)"
   ]
  },
  {
   "cell_type": "code",
   "execution_count": null,
   "id": "1dc91c84",
   "metadata": {},
   "outputs": [],
   "source": [
    "results"
   ]
  },
  {
   "cell_type": "code",
   "execution_count": null,
   "id": "481e6f96",
   "metadata": {},
   "outputs": [],
   "source": [
    "\n",
    "ridge_model.score(X,Y)"
   ]
  },
  {
   "cell_type": "code",
   "execution_count": null,
   "id": "7d2107ff",
   "metadata": {},
   "outputs": [],
   "source": []
  }
 ],
 "metadata": {
  "kernelspec": {
   "display_name": "Python 3 (ipykernel)",
   "language": "python",
   "name": "python3"
  },
  "language_info": {
   "codemirror_mode": {
    "name": "ipython",
    "version": 3
   },
   "file_extension": ".py",
   "mimetype": "text/x-python",
   "name": "python",
   "nbconvert_exporter": "python",
   "pygments_lexer": "ipython3",
   "version": "3.9.12"
  }
 },
 "nbformat": 4,
 "nbformat_minor": 5
}
